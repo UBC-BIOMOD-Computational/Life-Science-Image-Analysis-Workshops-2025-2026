{
 "cells": [
  {
   "cell_type": "markdown",
   "id": "0c28aed0",
   "metadata": {},
   "source": [
    "# Lab 3"
   ]
  },
  {
   "cell_type": "code",
   "execution_count": 1,
   "id": "66b60125",
   "metadata": {},
   "outputs": [],
   "source": [
    "# Install required packages if needed\n",
    "# !pip install SimpleITK torch torchio"
   ]
  },
  {
   "cell_type": "markdown",
   "id": "ea269197",
   "metadata": {},
   "source": [
    "## 1. Loading Images with SimpleITK"
   ]
  },
  {
   "cell_type": "code",
   "execution_count": 2,
   "id": "eafa7088",
   "metadata": {},
   "outputs": [
    {
     "ename": "ModuleNotFoundError",
     "evalue": "No module named 'SimpleITK'",
     "output_type": "error",
     "traceback": [
      "\u001b[1;31m---------------------------------------------------------------------------\u001b[0m",
      "\u001b[1;31mModuleNotFoundError\u001b[0m                       Traceback (most recent call last)",
      "Cell \u001b[1;32mIn[2], line 1\u001b[0m\n\u001b[1;32m----> 1\u001b[0m \u001b[38;5;28;01mimport\u001b[39;00m \u001b[38;5;21;01mSimpleITK\u001b[39;00m \u001b[38;5;28;01mas\u001b[39;00m \u001b[38;5;21;01msitk\u001b[39;00m\n\u001b[0;32m      2\u001b[0m \u001b[38;5;28;01mimport\u001b[39;00m \u001b[38;5;21;01mnumpy\u001b[39;00m \u001b[38;5;28;01mas\u001b[39;00m \u001b[38;5;21;01mnp\u001b[39;00m\n\u001b[0;32m      4\u001b[0m \u001b[38;5;66;03m# Load a 2D or 3D image (e.g., NIfTI, DICOM, etc.)\u001b[39;00m\n",
      "\u001b[1;31mModuleNotFoundError\u001b[0m: No module named 'SimpleITK'"
     ]
    }
   ],
   "source": [
    "import SimpleITK as sitk\n",
    "import numpy as np\n",
    "\n",
    "# Load a 2D or 3D image (e.g., NIfTI, DICOM, etc.)\n",
    "image_path = '../data/sample_image.nii.gz'  # Update with your image path\n",
    "image = sitk.ReadImage(image_path)\n",
    "print('Image size:', image.GetSize())\n",
    "print('Image spacing:', image.GetSpacing())"
   ]
  },
  {
   "cell_type": "markdown",
   "id": "9f4e4076",
   "metadata": {},
   "source": [
    "## 2. Manipulating Imaging Arrays in NumPy and Torch"
   ]
  },
  {
   "cell_type": "code",
   "execution_count": null,
   "id": "48a7d13d",
   "metadata": {},
   "outputs": [],
   "source": [
    "import torch\n",
    "\n",
    "# Convert SimpleITK image to NumPy array\n",
    "image_np = sitk.GetArrayFromImage(image)  # shape: (z, y, x) for 3D, (y, x) for 2D\n",
    "print('NumPy array shape:', image_np.shape)\n",
    "\n",
    "# Manipulate with NumPy (e.g., normalize)\n",
    "image_np_norm = (image_np - np.min(image_np)) / (np.max(image_np) - np.min(image_np))\n",
    "print('Normalized min/max:', image_np_norm.min(), image_np_norm.max())\n",
    "\n",
    "# Convert to Torch tensor\n",
    "image_tensor = torch.from_numpy(image_np_norm).float()\n",
    "print('Torch tensor shape:', image_tensor.shape)"
   ]
  },
  {
   "cell_type": "markdown",
   "id": "98b6200b",
   "metadata": {},
   "source": [
    "## 3. Data Augmentation on 2D/3D Images using TorchIO"
   ]
  },
  {
   "cell_type": "code",
   "execution_count": null,
   "id": "829503ac",
   "metadata": {},
   "outputs": [],
   "source": [
    "import torchio as tio\n",
    "\n",
    "# TorchIO expects images in (C, Z, Y, X) or (C, Y, X) format\n",
    "if image_tensor.ndim == 3:\n",
    "    image_tensor = image_tensor.unsqueeze(0)  # Add channel dimension\n",
    "elif image_tensor.ndim == 2:\n",
    "    image_tensor = image_tensor.unsqueeze(0).unsqueeze(0)\n",
    "\n",
    "# Create a TorchIO Subject\n",
    "subject = tio.Subject(\n",
    "    image=tio.ScalarImage(tensor=image_tensor)\n",
    ")\n",
    "\n",
    "# Define a data augmentation pipeline\n",
    "transform = tio.Compose([\n",
    "    tio.RandomFlip(axes=(0, 1)),\n",
    "    tio.RandomAffine(scales=(0.9, 1.1), degrees=10),\n",
    "    tio.RandomNoise(mean=0, std=0.1),\n",
    "    tio.RandomBiasField(coefficients=0.5)\n",
    "])\n",
    "\n",
    "# Apply augmentation\n",
    "augmented = transform(subject)\n",
    "aug_image = augmented.image.data\n",
    "print('Augmented image shape:', aug_image.shape)"
   ]
  },
  {
   "cell_type": "markdown",
   "id": "a424c6dc",
   "metadata": {},
   "source": [
    "## 4. Visualize Original and Augmented Images (2D slice example)"
   ]
  },
  {
   "cell_type": "code",
   "execution_count": null,
   "id": "86472f1c",
   "metadata": {},
   "outputs": [],
   "source": [
    "import matplotlib.pyplot as plt\n",
    "\n",
    "# Show a middle slice for 3D, or the image for 2D\n",
    "def show_slice(tensor, title):\n",
    "    arr = tensor.squeeze().cpu().numpy()\n",
    "    if arr.ndim == 3:\n",
    "        idx = arr.shape[0] // 2\n",
    "        arr = arr[idx]\n",
    "    plt.imshow(arr, cmap='gray')\n",
    "    plt.title(title)\n",
    "    plt.axis('off')\n",
    "    plt.show()\n",
    "\n",
    "show_slice(image_tensor, 'Original Image')\n",
    "show_slice(aug_image, 'Augmented Image')"
   ]
  }
 ],
 "metadata": {
  "kernelspec": {
   "display_name": "base",
   "language": "python",
   "name": "python3"
  },
  "language_info": {
   "codemirror_mode": {
    "name": "ipython",
    "version": 3
   },
   "file_extension": ".py",
   "mimetype": "text/x-python",
   "name": "python",
   "nbconvert_exporter": "python",
   "pygments_lexer": "ipython3",
   "version": "3.12.3"
  }
 },
 "nbformat": 4,
 "nbformat_minor": 5
}
