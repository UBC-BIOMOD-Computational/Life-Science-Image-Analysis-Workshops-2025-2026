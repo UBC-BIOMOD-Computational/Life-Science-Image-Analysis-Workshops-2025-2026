{
 "cells": [
  {
   "cell_type": "markdown",
   "id": "0c28aed0",
   "metadata": {},
   "source": [
    "# Lab 3\n"
   ]
  },
  {
   "cell_type": "code",
   "execution_count": null,
   "id": "66b60125",
   "metadata": {},
   "outputs": [],
   "source": [
    "\"\"\"\n",
    "Created by:  Charity Grey (2025)\n",
    "Modified by:  [Your Name] (2025)\n",
    "\"\"\"\n",
    "\n",
    "\n",
    "# Install required packages if needed\n",
    "# !pip install SimpleITK\n",
    "from tcia_utils import nbia\n",
    "import pandas as pd\n",
    "import SimpleITK as sitk\n",
    "import numpy as np\n",
    "import os\n",
    "import matplotlib.pyplot as plt"
   ]
  },
  {
   "cell_type": "markdown",
   "id": "e4dc9ee2",
   "metadata": {},
   "source": [
    "### DICOM\n",
    "\n",
    "DICOM is Digital Imaging and Communications in Medicine — is the international standard for medical images and related information\n",
    "- OPTIONAL 10 min video: just for ur knowledge https://www.youtube.com/watch?v=-c9KhcGYTG4 "
   ]
  },
  {
   "cell_type": "markdown",
   "id": "73dc87e3",
   "metadata": {},
   "source": [
    "### Visit The Cancer Imaging Archive (TCIA)\n",
    "Skim this: https://www.cancerimagingarchive.net/browse-collections/ "
   ]
  },
  {
   "cell_type": "markdown",
   "id": "4205f361",
   "metadata": {},
   "source": [
    "#### Download the data using their web API\n",
    "\n",
    "Q: What is an API? Watch this 3 min video to understand:\n",
    "https://www.youtube.com/watch?v=-0MmWEYR2a8 \n",
    "\n",
    "Ans: An application programming interface is a connection between computers or between computer programs. It is a type of software interface, offering a service to other pieces of software\n"
   ]
  },
  {
   "cell_type": "markdown",
   "id": "c37bd577",
   "metadata": {},
   "source": [
    "#### How to use APIs? \n",
    "\n",
    "- In bioinformatics, a lot of APIs are used for downloading and accessing data\n",
    "- Each api is different, but you always make some sort of a request. ie: in English, the request \"Where\" tells you the answer you want is a location.\n",
    "\n",
    "How you format your request can achieved via reading documention for that API.\n",
    "\n",
    "Our reference documentation here:\n",
    "- https://wiki.cancerimagingarchive.net/display/Public/TCIA+Programmatic+Interface+%28REST+API%29+Usage+Guide+v2 \n",
    "- if you would like to follow their optional tutorial: https://github.com/kirbyju/TCIA_Notebooks/blob/main/TCGA/TCGA_Clinical.ipynb \n",
    "\n",
    "\n",
    "Fortunately for us, the TCIA also has a python library that basically has functions that access these apis directly. So we will be doing that."
   ]
  },
  {
   "cell_type": "markdown",
   "id": "2edc62ee-e6f0-4a83-adc8-e3750e4442de",
   "metadata": {},
   "source": [
    "### YOU ARE NOT EXPECTED TO REPRODUCE THIS. JUST READ IT AND FOLLOW ALONG AS YOU RUN THE CELLS\n",
    "\n",
    "The reason why is because sometimes, bioinformatics processes are NOT just about analysis. It's also about getting the data and cleaning it/manipulating it to be in the right format for analysis\n",
    "- this is called data engineering (data wrangling if you are more in data science)"
   ]
  },
  {
   "cell_type": "code",
   "execution_count": null,
   "id": "1ac056e1",
   "metadata": {},
   "outputs": [],
   "source": [
    "\n",
    "# we are going to get list of all the image collections from the TCIA api\n",
    "collections_json = nbia.getCollections()\n",
    "print(str(len(collections_json)) + \" collections were found.\")\n",
    "collections = [item['Collection'] for item in collections_json]\n",
    "print('Collections: ', collections)\n",
    "collections = ['PROSTATE-DIAGNOSIS']\n",
    "\n",
    "# What is a nbia series?\n",
    "# Ans: its just a description of the datasets available\n",
    "series_df = nbia.getSeries(collections[0], format=\"df\")\n",
    "\n",
    "print(\"Series DataFrame shape:\", series_df.shape)\n",
    "series_df.head(1) "
   ]
  },
  {
   "cell_type": "code",
   "execution_count": null,
   "id": "3113fff7-63a0-4dd6-8d15-024ad5516a70",
   "metadata": {},
   "outputs": [],
   "source": [
    "try:\n",
    "    series_uid = series_df['SeriesInstanceUID'].iloc[0]\n",
    "    bodyPart = series_df['BodyPartExamined'].iloc[0] \n",
    "    print(f\"\\nAttempting to download series for body part - {bodyPart}: {series_uid}\")\n",
    "    \n",
    "    # Download with more specific parameters\n",
    "    nbia.downloadSeries(\n",
    "        [series_uid], \n",
    "        number=1, \n",
    "        input_type=\"list\",\n",
    "        path=\"./downloads\"  # TODO: Specify download directory, rename this env to not interfere with other people's work\n",
    "    )\n",
    "    print(\"Download completed successfully!\")\n",
    "    \n",
    "except Exception as e:\n",
    "    print(f\"Download failed: {e}\")"
   ]
  },
  {
   "cell_type": "markdown",
   "id": "ea269197",
   "metadata": {},
   "source": [
    "## 1. Loading Images with SimpleITK"
   ]
  },
  {
   "cell_type": "code",
   "execution_count": null,
   "id": "eafa7088",
   "metadata": {},
   "outputs": [],
   "source": [
    "# Method 1: Read a single DICOM file\n",
    "try:\n",
    "    # Load a single DICOM file\n",
    "    folderpath = \"./downloads/1.3.6.1.4.1.14519.5.2.1.4792.2002.115178120278427420002997506613/\" #TODO replace with path of where you downloaded to\n",
    "    image_path = f'{folderpath}1-01.dcm'  # Update with your image path\n",
    "    image = sitk.ReadImage(image_path)\n",
    "    print('Single DICOM Image size:', image.GetSize())\n",
    "    print('Image spacing:', image.GetSpacing())\n",
    "except:\n",
    "    print(\"Single DICOM file not found\")\n"
   ]
  },
  {
   "cell_type": "code",
   "execution_count": null,
   "id": "9bd1f7f4-4967-4bf1-be7d-a5c40c05005e",
   "metadata": {},
   "outputs": [],
   "source": [
    "# The following line will fail. Why?\n",
    "# Ans: TODO\n",
    "\n",
    "sitk.Show(image, title=\"image 1\")"
   ]
  },
  {
   "cell_type": "code",
   "execution_count": null,
   "id": "3ccb72c7-1bfc-4936-b856-ebb4773b4889",
   "metadata": {},
   "outputs": [],
   "source": [
    "nda = sitk.GetArrayFromImage(image)\n",
    "# The following line will also fail. Why?\n",
    "# Ans: TODO\n",
    "\n",
    "plt.imshow(nda)"
   ]
  },
  {
   "cell_type": "code",
   "execution_count": null,
   "id": "48c1ef41-47a5-4aae-846d-2caefceaedf4",
   "metadata": {},
   "outputs": [],
   "source": [
    "# Try this line:\n",
    "plt.imshow(np.squeeze(nda), cmap='gray')\n",
    "plt.title('Original DICOM Image')\n",
    "plt.axis('off')\n",
    "plt.show()"
   ]
  },
  {
   "cell_type": "markdown",
   "id": "a41b7410",
   "metadata": {},
   "source": [
    "## 2. Image Binarization and Selective Coloring\n",
    "\n",
    "Now let's work with binarization, masking, and selective coloring techniques."
   ]
  },
  {
   "cell_type": "markdown",
   "id": "1bec39d7-a2eb-4a9d-a3d5-a7946524a2c7",
   "metadata": {},
   "source": [
    "Lets go over a quick example of image binarization aka Image Thresholding (one of the traditional image segmentation techniques).\n",
    "\n",
    "We are going over this because it's the easiest example and also because I want you to get familiar with how `skimage` does certain stuff\n",
    "\n",
    "please ensure you've downloaded `scikit-image` in the cell below if you haven't downloaded it from the `requirements.txt`"
   ]
  },
  {
   "cell_type": "code",
   "execution_count": null,
   "id": "76482c2c",
   "metadata": {},
   "outputs": [],
   "source": [
    "import cv2\n",
    "from skimage import filters, morphology\n",
    "from skimage.color import rgb2hsv, hsv2rgb"
   ]
  },
  {
   "cell_type": "code",
   "execution_count": null,
   "id": "bee9ee02-1e25-41db-b89c-d9b19fcd397c",
   "metadata": {},
   "outputs": [],
   "source": [
    "img_array = np.squeeze(nda)\n",
    "print(f\"Dtype: {img_array.shape}\")\n",
    "print(f\"Dtype: {img_array.dtype}\")\n",
    "print(f\"Min value: {np.min(img_array)}\")\n",
    "print(f\"Max value: {np.max(img_array)}\")\n",
    "# Q: What does the shape tell us about the color of the image\n",
    "# Ans: TODO"
   ]
  },
  {
   "cell_type": "code",
   "execution_count": null,
   "id": "1e868163-d6ff-4ce1-b9ad-69cae4253c77",
   "metadata": {},
   "outputs": [],
   "source": [
    "# Notice that even though we only have one channel (so no RGB), our max pixel value is way above 255. \n",
    "# We will quickly normalize it to be in the pixel value range of [0, 255] and also convert the datatype from float64 to uint8 to ensure that this image is now compatible with a bunch of functions\n",
    "\n",
    "image_normalized = cv2.normalize(img_array, None, 0, 255, cv2.NORM_MINMAX)\n",
    "image_uint8 = image_normalized.astype(np.uint8)"
   ]
  },
  {
   "cell_type": "code",
   "execution_count": null,
   "id": "69e7da74-9e86-4cc5-b369-e504ba7cdde5",
   "metadata": {},
   "outputs": [],
   "source": [
    "def create_mask(image):\n",
    "    # _, binary = cv2.threshold(image, thresh_value, max_value, threshold method) \n",
    "    _, binary = cv2.threshold(image, 0, 255, cv2.THRESH_BINARY + cv2.THRESH_OTSU)\n",
    "    _, binary = cv2.threshold(image, 0, 255,)\n",
    "    return binary\n",
    "\n",
    "binary_mask = create_mask(image_uint8)\n",
    "\n",
    "alpha = 0.6  # transparency of original image\n",
    "beta = 0.4   # transparency of overlay\n",
    "overlayed = cv2.addWeighted(image_uint8, alpha, binary_mask.astype(np.uint8), beta, 0)"
   ]
  },
  {
   "cell_type": "code",
   "execution_count": null,
   "id": "e2e40dd3-fb9e-4633-af2b-20220ab18f76",
   "metadata": {},
   "outputs": [],
   "source": []
  },
  {
   "cell_type": "code",
   "execution_count": null,
   "id": "50044a7f-3b77-4c10-aecd-f70b6fb85662",
   "metadata": {},
   "outputs": [],
   "source": [
    "# Plotting\n",
    "\n",
    "plt.figure(figsize=(20, 5))\n",
    "\n",
    "# Ans: TODO \n",
    "# plot img_array \n",
    "# plot binary_mask \n",
    "# plot overlayed \n",
    "\n",
    "#  note: plot as grayscale, since plt defaults to color mapping with 3 channels"
   ]
  },
  {
   "cell_type": "code",
   "execution_count": null,
   "id": "90170aad",
   "metadata": {},
   "outputs": [],
   "source": []
  },
  {
   "cell_type": "code",
   "execution_count": null,
   "id": "48824cc8",
   "metadata": {},
   "outputs": [],
   "source": []
  }
 ],
 "metadata": {
  "kernelspec": {
   "display_name": "Python 3 (ipykernel)",
   "language": "python",
   "name": "python3"
  },
  "language_info": {
   "codemirror_mode": {
    "name": "ipython",
    "version": 3
   },
   "file_extension": ".py",
   "mimetype": "text/x-python",
   "name": "python",
   "nbconvert_exporter": "python",
   "pygments_lexer": "ipython3",
   "version": "3.13.3"
  }
 },
 "nbformat": 4,
 "nbformat_minor": 5
}
