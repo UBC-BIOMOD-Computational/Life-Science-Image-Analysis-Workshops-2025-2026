{
 "cells": [
  {
   "cell_type": "markdown",
   "id": "0c28aed0",
   "metadata": {},
   "source": [
    "# Lab 3"
   ]
  },
  {
   "cell_type": "code",
   "execution_count": 1,
   "id": "66b60125",
   "metadata": {},
   "outputs": [],
   "source": [
    "# Install required packages if needed\n",
    "# !pip install SimpleITK torch torchio\n",
    "from tcia_utils import nbia\n",
    "import pandas as pd"
   ]
  },
  {
   "cell_type": "markdown",
   "id": "e4dc9ee2",
   "metadata": {},
   "source": [
    "### DICOM\n",
    "\n",
    "DICOM is Digital Imaging and Communications in Medicine — is the international standard for medical images and related information\n",
    "- OPTIONAL 10 min video: just for ur knowledge https://www.youtube.com/watch?v=-c9KhcGYTG4 "
   ]
  },
  {
   "cell_type": "markdown",
   "id": "73dc87e3",
   "metadata": {},
   "source": [
    "### Visit The Cancer Imaging Archive (TCIA)\n",
    "Skim this: https://www.cancerimagingarchive.net/browse-collections/ "
   ]
  },
  {
   "cell_type": "markdown",
   "id": "4205f361",
   "metadata": {},
   "source": [
    "#### Download the data using their web API\n",
    "\n",
    "Q: What is an API? Watch this 3 min video to understand:\n",
    "https://www.youtube.com/watch?v=-0MmWEYR2a8 \n",
    "\n",
    "Ans: An application programming interface is a connection between computers or between computer programs. It is a type of software interface, offering a service to other pieces of software\n"
   ]
  },
  {
   "cell_type": "markdown",
   "id": "c37bd577",
   "metadata": {},
   "source": [
    "#### How to use APIs? \n",
    "\n",
    "- In bioinformatics, a lot of APIs are used for downloading and accessing data\n",
    "- Each api is different, but you always make some sort of a request. ie: in English, the request \"Where\" tells you the answer you want is a location.\n",
    "\n",
    "How you format your request can achieved via reading documention for that API.\n",
    "\n",
    "Our reference documentation here:\n",
    "- https://wiki.cancerimagingarchive.net/display/Public/TCIA+Programmatic+Interface+%28REST+API%29+Usage+Guide+v2 \n",
    "- if you would like to follow their optional tutorial: https://github.com/kirbyju/TCIA_Notebooks/blob/main/TCGA/TCGA_Clinical.ipynb \n"
   ]
  },
  {
   "cell_type": "code",
   "execution_count": 2,
   "id": "1ac056e1",
   "metadata": {},
   "outputs": [
    {
     "name": "stderr",
     "output_type": "stream",
     "text": [
      "2025-09-20 00:19:30,366:INFO:Success - Token saved to global api_call_headers variable and expires at 2025-09-20 02:19:30.366378\n",
      "2025-09-20 00:19:30,368:INFO:Accessing public data anonymously. To access restricted data use nbia.getToken() with your credentials.\n",
      "2025-09-20 00:19:30,369:INFO:Calling getCollectionValues with parameters {}\n",
      "2025-09-20 00:19:35,768:INFO:Calling getSeries with parameters {'Collection': 'PROSTATE-DIAGNOSIS'}\n"
     ]
    },
    {
     "name": "stdout",
     "output_type": "stream",
     "text": [
      "149 collections were found.\n",
      "Collections:  ['4D-Lung', 'A091105', 'ACNS0332', 'ACRIN-6698', 'ACRIN-Contralateral-Breast-MR', 'ACRIN-FLT-Breast', 'ACRIN-HNSCC-FDG-PET-CT', 'ACRIN-NSCLC-FDG-PET', 'AHEP0731', 'AHOD0831', 'ARAR0331', 'AREN0532', 'AREN0533', 'AREN0534', 'Adrenal-ACC-Ki67-Seg', 'Advanced-MRI-Breast-Lesions', 'Anti-PD-1_Lung', 'B-mode-and-CEUS-Liver', 'BREAST-DIAGNOSIS', 'Breast-Cancer-Screening-DBT', 'Breast-MRI-NACT-Pilot', 'C4KC-KiTS', 'CALGB50303', 'CBIS-DDSM', 'CC-Radiomics-Phantom', 'CC-Radiomics-Phantom-2', 'CC-Radiomics-Phantom-3', 'CC-Tumor-Heterogeneity', 'CMB-AML', 'CMB-BRCA', 'CMB-CRC', 'CMB-GEC', 'CMB-LCA', 'CMB-MEL', 'CMB-MML', 'CMB-OV', 'CMB-PCA', 'CMMD', 'COVID-19-AR', 'COVID-19-NY-SBU', 'CPTAC-AML', 'CPTAC-CCRCC', 'CPTAC-CM', 'CPTAC-LSCC', 'CPTAC-LUAD', 'CPTAC-PDA', 'CPTAC-SAR', 'CPTAC-UCEC', 'CT COLONOGRAPHY', 'CT Lymph Nodes', 'CT-Phantom4Radiomics', 'CT-vs-PET-Ventilation-Imaging', 'CT4Harmonization-Multicentric', 'CTpred-Sunitinib-panNET', 'Colorectal-Liver-Metastases', 'DRO-Toolkit', 'Duke-Breast-Cancer-MRI', 'EA1141', 'GBM-DSC-MRI-DRO', 'HCC-TACE-Seg', 'ICDC-Glioma', 'ISPY1', 'ISPY2', 'LCTSC', 'LDCT-and-Projection-data', 'LIDC-IDRI', 'Lung Phantom', 'Lung-Fused-CT-Pathology', 'Lung-PET-CT-Dx', 'LungCT-Diagnosis', 'MIDI-B-Curated-Test', 'MIDI-B-Curated-Validation', 'MIDI-B-Synthetic-Test', 'MIDI-B-Synthetic-Validation', 'MIDRC-RICORD-1A', 'MIDRC-RICORD-1B', 'MIDRC-RICORD-1C', 'MRI-DIR', 'Mediastinal-Lymph-Node-SEG', 'Mouse-Astrocytoma', 'Mouse-Mammary', 'NSCLC Radiogenomics', 'NSCLC-Radiomics', 'NSCLC-Radiomics-Genomics', 'NSCLC-Radiomics-Interobserver1', 'NaF PROSTATE', 'PDMR-292921-168-R', 'PDMR-425362-245-T', 'PDMR-521955-158-R4', 'PDMR-833975-119-R', 'PDMR-997537-175-T', 'PDMR-BL0293-F563', 'PDMR-Texture-Analysis', 'PROSTATE-DIAGNOSIS', 'PROSTATE-MRI', 'PROSTATEx', 'Pancreas-CT', 'Pancreatic-CT-CBCT-SEG', 'Pediatric-CT-SEG', 'Pelvic-Reference-Data', 'Phantom FDA', 'Prostate Fused-MRI-Pathology', 'Prostate-3T', 'Prostate-Anatomical-Edge-Cases', 'Prostate-MRI-US-Biopsy', 'Pseudo-PHI-DICOM-Data', 'QIBA CT-1C', 'QIBA-CT-Liver-Phantom', 'QIN Breast DCE-MRI', 'QIN LUNG CT', 'QIN PET Phantom', 'QIN-BREAST', 'QIN-BREAST-02', 'QIN-PROSTATE-Repeatability', 'RIDER Breast MRI', 'RIDER Lung CT', 'RIDER Lung PET-CT', 'RIDER PHANTOM MRI', 'RIDER PHANTOM PET-CT', 'RIDER Pilot', 'ReMIND', 'S0819', 'SPIE-AAPM Lung CT Challenge', 'Soft-tissue-Sarcoma', 'Spine-Mets-CT-SEG', 'StageII-Colorectal-CT', 'TCGA-BLCA', 'TCGA-BRCA', 'TCGA-CESC', 'TCGA-COAD', 'TCGA-ESCA', 'TCGA-KICH', 'TCGA-KIRC', 'TCGA-KIRP', 'TCGA-LIHC', 'TCGA-LUAD', 'TCGA-LUSC', 'TCGA-OV', 'TCGA-PRAD', 'TCGA-READ', 'TCGA-SARC', 'TCGA-STAD', 'TCGA-THCA', 'TCGA-UCEC', 'UPENN-GBM', 'VAREPOP-APOLLO', 'VICTRE', 'Vestibular-Schwannoma-MC-RC', 'Vestibular-Schwannoma-SEG']\n"
     ]
    },
    {
     "name": "stderr",
     "output_type": "stream",
     "text": [
      "2025-09-20 00:19:38,072:INFO:Directory './downloads' already exists.\n",
      "2025-09-20 00:19:38,073:WARNING:Series 1.3.6.1.4.1.14519.5.2.1.4792.2002.115178120278427420002997506613 already downloaded and unzipped.\n",
      "2025-09-20 00:19:38,075:INFO:Found 0 previously downloaded series.\n",
      "2025-09-20 00:19:38,077:INFO:Attempting to download 0 new series.\n",
      "2025-09-20 00:19:38,079:INFO:Downloaded 0 out of 0 targeted series.\n",
      "0 failed to download.\n",
      "0 were previously downloaded.\n"
     ]
    },
    {
     "name": "stdout",
     "output_type": "stream",
     "text": [
      "Series DataFrame shape: (368, 23)\n",
      "                                   SeriesInstanceUID  \\\n",
      "0  1.3.6.1.4.1.14519.5.2.1.4792.2002.115178120278...   \n",
      "1  1.3.6.1.4.1.14519.5.2.1.4792.2002.224141337920...   \n",
      "2  1.3.6.1.4.1.14519.5.2.1.4792.2002.150587400873...   \n",
      "3  1.3.6.1.4.1.14519.5.2.1.4792.2002.327852935822...   \n",
      "4  1.3.6.1.4.1.14519.5.2.1.4792.2002.129052287184...   \n",
      "\n",
      "                                    StudyInstanceUID Modality  \\\n",
      "0  1.3.6.1.4.1.14519.5.2.1.4792.2002.269119633629...       MR   \n",
      "1  1.3.6.1.4.1.14519.5.2.1.4792.2002.269119633629...       MR   \n",
      "2  1.3.6.1.4.1.14519.5.2.1.4792.2002.269119633629...       MR   \n",
      "3  1.3.6.1.4.1.14519.5.2.1.4792.2002.269119633629...       MR   \n",
      "4  1.3.6.1.4.1.14519.5.2.1.4792.2002.186131127925...       MR   \n",
      "\n",
      "           ProtocolName             SeriesDate SeriesDescription  \\\n",
      "0     T2W_TSE_COR SENSE  2008-09-23 00:00:00.0       T2W_TSE_COR   \n",
      "1      T1W_TSE_AX CLEAR  2008-09-23 00:00:00.0        T1W_TSE_AX   \n",
      "2      T2W_TSE_AX SENSE  2008-09-23 00:00:00.0        T2W_TSE_AX   \n",
      "3  AX BLISS_GAD_8 SENSE  2008-09-23 00:00:00.0    AX BLISS_GAD_8   \n",
      "4     T2W_TSE_COR SENSE  2008-09-16 00:00:00.0       T2W_TSE_COR   \n",
      "\n",
      "  BodyPartExamined  SeriesNumber          Collection           PatientID  ...  \\\n",
      "0         PROSTATE           401  PROSTATE-DIAGNOSIS  ProstateDx-01-0001  ...   \n",
      "1         PROSTATE           601  PROSTATE-DIAGNOSIS  ProstateDx-01-0001  ...   \n",
      "2         PROSTATE           501  PROSTATE-DIAGNOSIS  ProstateDx-01-0001  ...   \n",
      "3         PROSTATE           701  PROSTATE-DIAGNOSIS  ProstateDx-01-0001  ...   \n",
      "4         PROSTATE           401  PROSTATE-DIAGNOSIS  ProstateDx-01-0002  ...   \n",
      "\n",
      "  ImageCount              TimeStamp  \\\n",
      "0         24  2012-03-12 10:19:02.0   \n",
      "1         36  2012-03-12 10:19:08.0   \n",
      "2         32  2012-03-12 10:19:15.0   \n",
      "3        256  2012-03-12 10:20:04.0   \n",
      "4         24  2012-03-12 10:20:05.0   \n",
      "\n",
      "                                         LicenseName  \\\n",
      "0  Creative Commons Attribution 3.0 Unported License   \n",
      "1  Creative Commons Attribution 3.0 Unported License   \n",
      "2  Creative Commons Attribution 3.0 Unported License   \n",
      "3  Creative Commons Attribution 3.0 Unported License   \n",
      "4  Creative Commons Attribution 3.0 Unported License   \n",
      "\n",
      "                                    LicenseURI  \\\n",
      "0  http://creativecommons.org/licenses/by/3.0/   \n",
      "1  http://creativecommons.org/licenses/by/3.0/   \n",
      "2  http://creativecommons.org/licenses/by/3.0/   \n",
      "3  http://creativecommons.org/licenses/by/3.0/   \n",
      "4  http://creativecommons.org/licenses/by/3.0/   \n",
      "\n",
      "                                   CollectionURI  FileSize  \\\n",
      "0  https://doi.org/10.7937/K9/TCIA.2015.FOQEUJVT   3229344   \n",
      "1  https://doi.org/10.7937/K9/TCIA.2015.FOQEUJVT   7499866   \n",
      "2  https://doi.org/10.7937/K9/TCIA.2015.FOQEUJVT  10354034   \n",
      "3  https://doi.org/10.7937/K9/TCIA.2015.FOQEUJVT  43388246   \n",
      "4  https://doi.org/10.7937/K9/TCIA.2015.FOQEUJVT   3231778   \n",
      "\n",
      "            DateReleased                               StudyDesc  \\\n",
      "0  2013-01-30 00:00:00.0  MRI PROSTATE WITH AND WITHOUT CONTRAST   \n",
      "1  2013-01-30 00:00:00.0  MRI PROSTATE WITH AND WITHOUT CONTRAST   \n",
      "2  2013-01-30 00:00:00.0  MRI PROSTATE WITH AND WITHOUT CONTRAST   \n",
      "3  2013-01-30 00:00:00.0  MRI PROSTATE WITH AND WITHOUT CONTRAST   \n",
      "4  2013-01-30 00:00:00.0  MRI PROSTATE WITH AND WITHOUT CONTRAST   \n",
      "\n",
      "               StudyDate ThirdPartyAnalysis  \n",
      "0  2008-09-23 00:00:00.0                NaN  \n",
      "1  2008-09-23 00:00:00.0                NaN  \n",
      "2  2008-09-23 00:00:00.0                NaN  \n",
      "3  2008-09-23 00:00:00.0                NaN  \n",
      "4  2008-09-16 00:00:00.0                NaN  \n",
      "\n",
      "[5 rows x 23 columns]\n",
      "\n",
      "Attempting to download series: 1.3.6.1.4.1.14519.5.2.1.4792.2002.115178120278427420002997506613\n",
      "Download completed successfully!\n"
     ]
    }
   ],
   "source": [
    "# get list of all collections\n",
    "collections_json = nbia.getCollections()\n",
    "print(str(len(collections_json)) + \" collections were found.\")\n",
    "collections = [item['Collection'] for item in collections_json]\n",
    "print('Collections: ', collections)\n",
    "collections = ['PROSTATE-DIAGNOSIS']\n",
    "\n",
    "series_df = nbia.getSeries(collections[0], format=\"df\")\n",
    "\n",
    "print(\"Series DataFrame shape:\", series_df.shape)\n",
    "print(series_df.head())\n",
    "try:\n",
    "    series_uid = series_df['SeriesInstanceUID'].iloc[0]\n",
    "    print(f\"\\nAttempting to download series: {series_uid}\")\n",
    "    \n",
    "    # Download with more specific parameters\n",
    "    nbia.downloadSeries(\n",
    "        [series_uid], \n",
    "        number=1, \n",
    "        input_type=\"list\",\n",
    "        path=\"./downloads\"  # Specify download directory\n",
    "    )\n",
    "    print(\"Download completed successfully!\")\n",
    "    \n",
    "except Exception as e:\n",
    "    print(f\"Download failed: {e}\")"
   ]
  },
  {
   "cell_type": "markdown",
   "id": "ea269197",
   "metadata": {},
   "source": [
    "## 1. Loading Images with SimpleITK"
   ]
  },
  {
   "cell_type": "code",
   "execution_count": 3,
   "id": "eafa7088",
   "metadata": {},
   "outputs": [
    {
     "name": "stdout",
     "output_type": "stream",
     "text": [
      "Single DICOM Image size: (256, 256, 1)\n",
      "Image spacing: (0.703125, 0.703125, 3.0)\n",
      "No DICOM series found in directory\n",
      "Individual DICOM file: 1-01.dcm\n",
      "Image size: (256, 256, 1)\n",
      "Pixel type: 64-bit float\n"
     ]
    }
   ],
   "source": [
    "import SimpleITK as sitk\n",
    "import numpy as np\n",
    "import os\n",
    "\n",
    "# Method 1: Read a single DICOM file\n",
    "try:\n",
    "    # Load a single DICOM file\n",
    "    folderpath = \"./downloads/1.3.6.1.4.1.14519.5.2.1.4792.2002.115178120278427420002997506613/\"\n",
    "    image_path = f'{folderpath}1-01.dcm'  # Update with your image path\n",
    "    image = sitk.ReadImage(image_path)\n",
    "    print('Single DICOM Image size:', image.GetSize())\n",
    "    print('Image spacing:', image.GetSpacing())\n",
    "except:\n",
    "    print(\"Single DICOM file not found\")\n",
    "\n",
    "# Method 2: Read DICOM series from a directory (recommended for 3D volumes)\n",
    "try:\n",
    "    dicom_directory = './downloads'  # Directory containing DICOM files\n",
    "    \n",
    "    # Get the series IDs\n",
    "    series_reader = sitk.ImageSeriesReader()\n",
    "    series_IDs = series_reader.GetGDCMSeriesIDs(dicom_directory)\n",
    "    \n",
    "    if len(series_IDs) > 0:\n",
    "        print(f\"Found {len(series_IDs)} DICOM series\")\n",
    "        \n",
    "        # Read the first series\n",
    "        series_file_names = series_reader.GetGDCMSeriesFileNames(dicom_directory, series_IDs[0])\n",
    "        series_reader.SetFileNames(series_file_names)\n",
    "        image = series_reader.Execute()\n",
    "        \n",
    "        print('DICOM Series Image size:', image.GetSize())\n",
    "        print('Image spacing:', image.GetSpacing())\n",
    "        print('Image origin:', image.GetOrigin())\n",
    "        print('Image direction:', image.GetDirection())\n",
    "        print('Number of files in series:', len(series_file_names))\n",
    "    else:\n",
    "        print(\"No DICOM series found in directory\")\n",
    "        \n",
    "except Exception as e:\n",
    "    print(f\"Error reading DICOM series: {e}\")\n",
    "\n",
    "# Method 3: Read all DICOM files in a directory as individual images\n",
    "try:\n",
    "    dicom_dir = folderpath\n",
    "    if os.path.exists(dicom_dir):\n",
    "        dcm_files = [f for f in os.listdir(dicom_dir) if f.endswith('.dcm')]\n",
    "        if dcm_files:\n",
    "            # Read first DICOM file found\n",
    "            first_dcm = os.path.join(dicom_dir, dcm_files[0])\n",
    "            image = sitk.ReadImage(first_dcm)\n",
    "            print(f'Individual DICOM file: {dcm_files[0]}')\n",
    "            print('Image size:', image.GetSize())\n",
    "            print('Pixel type:', image.GetPixelIDTypeAsString())\n",
    "        else:\n",
    "            print(\"No .dcm files found\")\n",
    "    else:\n",
    "        print(\"Downloads directory not found\")\n",
    "except Exception as e:\n",
    "    print(f\"Error: {e}\")"
   ]
  },
  {
   "cell_type": "markdown",
   "id": "9f4e4076",
   "metadata": {},
   "source": [
    "## 2. Manipulating Imaging Arrays in NumPy and Torch"
   ]
  },
  {
   "cell_type": "code",
   "execution_count": 4,
   "id": "48a7d13d",
   "metadata": {},
   "outputs": [
    {
     "name": "stdout",
     "output_type": "stream",
     "text": [
      "NumPy array shape: (1, 256, 256)\n",
      "Normalized min/max: 0.0 1.0\n",
      "Torch tensor shape: torch.Size([1, 256, 256])\n"
     ]
    }
   ],
   "source": [
    "import torch\n",
    "\n",
    "# Convert SimpleITK image to NumPy array\n",
    "image_np = sitk.GetArrayFromImage(image)  # shape: (z, y, x) for 3D, (y, x) for 2D\n",
    "print('NumPy array shape:', image_np.shape)\n",
    "\n",
    "# Manipulate with NumPy (e.g., normalize)\n",
    "image_np_norm = (image_np - np.min(image_np)) / (np.max(image_np) - np.min(image_np))\n",
    "print('Normalized min/max:', image_np_norm.min(), image_np_norm.max())\n",
    "\n",
    "# Convert to Torch tensor\n",
    "image_tensor = torch.from_numpy(image_np_norm).float()\n",
    "print('Torch tensor shape:', image_tensor.shape)"
   ]
  },
  {
   "cell_type": "markdown",
   "id": "98b6200b",
   "metadata": {},
   "source": [
    "## 3. Data Augmentation on 2D/3D Images using TorchIO"
   ]
  },
  {
   "cell_type": "code",
   "execution_count": null,
   "id": "829503ac",
   "metadata": {},
   "outputs": [
    {
     "name": "stderr",
     "output_type": "stream",
     "text": [
      "C:\\Users\\Hello\\anaconda3\\envs\\biomod\\Lib\\site-packages\\tqdm\\auto.py:21: TqdmWarning: IProgress not found. Please update jupyter and ipywidgets. See https://ipywidgets.readthedocs.io/en/stable/user_install.html\n",
      "  from .autonotebook import tqdm as notebook_tqdm\n"
     ]
    }
   ],
   "source": [
    "import torchio as tio\n",
    "\n",
    "# TorchIO expects images in (C, Z, Y, X) or (C, Y, X) format\n",
    "if image_tensor.ndim == 3:\n",
    "    image_tensor = image_tensor.unsqueeze(0)  # Add channel dimension\n",
    "elif image_tensor.ndim == 2:\n",
    "    image_tensor = image_tensor.unsqueeze(0).unsqueeze(0)\n",
    "\n",
    "# Create a TorchIO Subject\n",
    "subject = tio.Subject(\n",
    "    image=tio.ScalarImage(tensor=image_tensor)\n",
    ")\n",
    "\n",
    "# Define a data augmentation pipeline\n",
    "transform = tio.Compose([\n",
    "    tio.RandomFlip(axes=(0, 1)),\n",
    "    tio.RandomAffine(scales=(0.9, 1.1), degrees=10),\n",
    "    tio.RandomNoise(mean=0, std=0.1),\n",
    "    tio.RandomBiasField(coefficients=0.5)\n",
    "])\n",
    "\n",
    "# Apply augmentation\n",
    "augmented = transform(subject)\n",
    "aug_image = augmented.image.data\n",
    "print('Augmented image shape:', aug_image.shape)"
   ]
  },
  {
   "cell_type": "markdown",
   "id": "a424c6dc",
   "metadata": {},
   "source": [
    "## 4. Visualize Original and Augmented Images (2D slice example)"
   ]
  },
  {
   "cell_type": "code",
   "execution_count": null,
   "id": "86472f1c",
   "metadata": {},
   "outputs": [],
   "source": [
    "import matplotlib.pyplot as plt\n",
    "\n",
    "# Show a middle slice for 3D, or the image for 2D\n",
    "def show_slice(tensor, title):\n",
    "    arr = tensor.squeeze().cpu().numpy()\n",
    "    if arr.ndim == 3:\n",
    "        idx = arr.shape[0] // 2\n",
    "        arr = arr[idx]\n",
    "    plt.imshow(arr, cmap='gray')\n",
    "    plt.title(title)\n",
    "    plt.axis('off')\n",
    "    plt.show()\n",
    "\n",
    "show_slice(image_tensor, 'Original Image')\n",
    "show_slice(aug_image, 'Augmented Image')"
   ]
  },
  {
   "cell_type": "markdown",
   "id": "d472243d",
   "metadata": {},
   "source": [
    "## 5. NumPy to PyTorch Tensors: A Comparison Guide\n",
    "\n",
    "For those familiar with NumPy arrays, here are the key differences and similarities with PyTorch tensors."
   ]
  },
  {
   "cell_type": "code",
   "execution_count": null,
   "id": "92beb4ce",
   "metadata": {},
   "outputs": [],
   "source": [
    "import torch\n",
    "import numpy as np\n",
    "\n",
    "# 1. Creating arrays/tensors\n",
    "print(\"=== Creating Arrays/Tensors ===\")\n",
    "\n",
    "# NumPy\n",
    "np_array = np.array([1, 2, 3, 4, 5])\n",
    "np_zeros = np.zeros((3, 4))\n",
    "np_ones = np.ones((2, 3))\n",
    "np_random = np.random.rand(2, 3)\n",
    "\n",
    "# PyTorch (similar syntax)\n",
    "torch_tensor = torch.tensor([1, 2, 3, 4, 5])\n",
    "torch_zeros = torch.zeros(3, 4)\n",
    "torch_ones = torch.ones(2, 3)\n",
    "torch_random = torch.rand(2, 3)\n",
    "\n",
    "print(\"NumPy array:\", np_array)\n",
    "print(\"PyTorch tensor:\", torch_tensor)\n",
    "print(\"Types:\", type(np_array), type(torch_tensor))"
   ]
  },
  {
   "cell_type": "code",
   "execution_count": null,
   "id": "09ecb188",
   "metadata": {},
   "outputs": [],
   "source": [
    "# 2. Converting between NumPy and PyTorch\n",
    "print(\"\\n=== Converting Between NumPy and PyTorch ===\")\n",
    "\n",
    "# NumPy to PyTorch\n",
    "np_to_torch = torch.from_numpy(np_array)\n",
    "print(\"NumPy to PyTorch:\", np_to_torch)\n",
    "\n",
    "# PyTorch to NumPy\n",
    "torch_to_np = torch_tensor.numpy()\n",
    "print(\"PyTorch to NumPy:\", torch_to_np)\n",
    "\n",
    "# Note: These share memory! Changes in one affect the other\n",
    "np_array[0] = 999\n",
    "print(\"After changing np_array[0]:\", np_to_torch)  # Also changed!\n",
    "\n",
    "# To avoid shared memory, use .clone() or .copy()\n",
    "safe_torch = torch.from_numpy(np_array.copy())\n",
    "safe_np = torch_tensor.clone().numpy()"
   ]
  },
  {
   "cell_type": "code",
   "execution_count": null,
   "id": "5373797f",
   "metadata": {},
   "outputs": [],
   "source": [
    "# 3. Basic operations - very similar syntax!\n",
    "print(\"\\n=== Basic Operations ===\")\n",
    "\n",
    "np_a = np.array([[1, 2], [3, 4]])\n",
    "np_b = np.array([[5, 6], [7, 8]])\n",
    "\n",
    "torch_a = torch.tensor([[1, 2], [3, 4]])\n",
    "torch_b = torch.tensor([[5, 6], [7, 8]])\n",
    "\n",
    "# Addition\n",
    "print(\"NumPy addition:\", np_a + np_b)\n",
    "print(\"PyTorch addition:\", torch_a + torch_b)\n",
    "\n",
    "# Matrix multiplication\n",
    "print(\"NumPy matmul:\", np.matmul(np_a, np_b))\n",
    "print(\"PyTorch matmul:\", torch.matmul(torch_a, torch_b))\n",
    "# or simply: torch_a @ torch_b\n",
    "\n",
    "# Reshaping\n",
    "print(\"NumPy reshape:\", np_a.reshape(-1))\n",
    "print(\"PyTorch reshape:\", torch_a.reshape(-1))\n",
    "# or: torch_a.view(-1)"
   ]
  },
  {
   "cell_type": "code",
   "execution_count": null,
   "id": "0d42607c",
   "metadata": {},
   "outputs": [],
   "source": [
    "# 4. Key differences: Device and gradients\n",
    "print(\"\\n=== Key Differences ===\")\n",
    "\n",
    "# Device (CPU vs GPU)\n",
    "device = torch.device('cuda' if torch.cuda.is_available() else 'cpu')\n",
    "print(\"Available device:\", device)\n",
    "\n",
    "torch_cpu = torch.ones(2, 3)\n",
    "print(\"Tensor device:\", torch_cpu.device)\n",
    "\n",
    "# Move to GPU (if available)\n",
    "if torch.cuda.is_available():\n",
    "    torch_gpu = torch_cpu.to('cuda')\n",
    "    print(\"GPU tensor device:\", torch_gpu.device)\n",
    "\n",
    "# Gradients (for automatic differentiation)\n",
    "x = torch.tensor([2.0], requires_grad=True)\n",
    "y = x ** 2\n",
    "y.backward()  # Compute gradients\n",
    "print(\"Gradient of x^2 at x=2:\", x.grad)  # Should be 4"
   ]
  },
  {
   "cell_type": "code",
   "execution_count": null,
   "id": "e4a9d128",
   "metadata": {},
   "outputs": [],
   "source": [
    "# 5. Common tensor operations for image processing\n",
    "print(\"\\n=== Image Processing Operations ===\")\n",
    "\n",
    "# Create a sample \"image\" tensor (batch_size, channels, height, width)\n",
    "image_tensor = torch.rand(1, 3, 64, 64)  # 1 RGB image, 64x64\n",
    "print(\"Image tensor shape:\", image_tensor.shape)\n",
    "\n",
    "# Indexing (similar to NumPy)\n",
    "red_channel = image_tensor[0, 0, :, :]  # First batch, red channel\n",
    "print(\"Red channel shape:\", red_channel.shape)\n",
    "\n",
    "# Permute dimensions (like np.transpose)\n",
    "# Change from NCHW to NHWC format\n",
    "image_hwc = image_tensor.permute(0, 2, 3, 1)\n",
    "print(\"NHWC format shape:\", image_hwc.shape)\n",
    "\n",
    "# Squeeze/unsqueeze (like np.squeeze/np.expand_dims)\n",
    "squeezed = image_tensor.squeeze(0)  # Remove batch dimension\n",
    "print(\"Squeezed shape:\", squeezed.shape)\n",
    "\n",
    "unsqueezed = squeezed.unsqueeze(0)  # Add batch dimension back\n",
    "print(\"Unsqueezed shape:\", unsqueezed.shape)"
   ]
  },
  {
   "cell_type": "code",
   "execution_count": null,
   "id": "574d6bbb",
   "metadata": {},
   "outputs": [],
   "source": [
    "# 6. Working with our medical image example\n",
    "print(\"\\n=== Medical Image Tensor Operations ===\")\n",
    "\n",
    "# Our image_tensor from earlier\n",
    "print(\"Original image tensor shape:\", image_tensor.shape)\n",
    "print(\"Data type:\", image_tensor.dtype)\n",
    "\n",
    "# Common operations you might do:\n",
    "\n",
    "# 1. Normalize (similar to NumPy)\n",
    "normalized = (image_tensor - image_tensor.mean()) / image_tensor.std()\n",
    "\n",
    "# 2. Add batch dimension if needed\n",
    "if image_tensor.dim() == 3:  # (C, H, W)\n",
    "    batched = image_tensor.unsqueeze(0)  # -> (1, C, H, W)\n",
    "    print(\"Added batch dimension:\", batched.shape)\n",
    "\n",
    "# 3. Convert data type\n",
    "float_tensor = image_tensor.float()  # Ensure float32\n",
    "print(\"Float tensor dtype:\", float_tensor.dtype)\n",
    "\n",
    "# 4. Clone for safety (like np.copy())\n",
    "image_copy = image_tensor.clone()\n",
    "\n",
    "# 5. Move to device for processing\n",
    "image_on_device = image_tensor.to(device)\n",
    "print(\"Image on device:\", image_on_device.device)"
   ]
  },
  {
   "cell_type": "markdown",
   "id": "f6aa612b",
   "metadata": {},
   "source": [
    "## Summary: NumPy vs PyTorch Tensors\n",
    "\n",
    "**Similarities:**\n",
    "- Very similar syntax for basic operations\n",
    "- Indexing, slicing, reshaping work almost identically\n",
    "- Mathematical operations are nearly the same\n",
    "\n",
    "**Key Differences:**\n",
    "- **Device support**: Tensors can live on GPU for faster computation\n",
    "- **Automatic differentiation**: Tensors can track gradients for deep learning\n",
    "- **Memory sharing**: Converting between NumPy and PyTorch shares memory by default\n",
    "- **Method names**: Some differences (e.g., `view()` vs `reshape()`, `permute()` vs `transpose()`)\n",
    "\n",
    "**For Medical Imaging:**\n",
    "- Use tensors when you need GPU acceleration\n",
    "- Use tensors for deep learning models\n",
    "- Convert to NumPy for visualization with matplotlib\n",
    "- Be aware of dimension ordering (NCHW vs NHWC)"
   ]
  }
 ],
 "metadata": {
  "kernelspec": {
   "display_name": "Python 3 (ipykernel)",
   "language": "python",
   "name": "python3"
  },
  "language_info": {
   "codemirror_mode": {
    "name": "ipython",
    "version": 3
   },
   "file_extension": ".py",
   "mimetype": "text/x-python",
   "name": "python",
   "nbconvert_exporter": "python",
   "pygments_lexer": "ipython3",
   "version": "3.13.3"
  }
 },
 "nbformat": 4,
 "nbformat_minor": 5
}
